{
 "cells": [
  {
   "cell_type": "code",
   "execution_count": 92,
   "id": "595340bb-e35c-4eb1-928c-86841427ee72",
   "metadata": {
    "tags": []
   },
   "outputs": [
    {
     "name": "stdout",
     "output_type": "stream",
     "text": [
      "The autoreload extension is already loaded. To reload it, use:\n",
      "  %reload_ext autoreload\n"
     ]
    }
   ],
   "source": [
    "%load_ext autoreload\n",
    "%autoreload 2\n",
    "\n",
    "import oddesa\n",
    "import importlib\n",
    "import numpy as np"
   ]
  },
  {
   "cell_type": "code",
   "execution_count": 93,
   "id": "e89cb571-88c4-4d64-aee6-236b0bbba115",
   "metadata": {
    "tags": []
   },
   "outputs": [
    {
     "name": "stdout",
     "output_type": "stream",
     "text": [
      "x - k*x|tau + x|1 + x'|1\n",
      "{'x': \"x - k*x|tau + x|1 + x'|1\"}\n",
      "['x']\n",
      "{'tau', '1'}\n",
      "{('x', '1'), ('x', 'tau'), (\"x'\", '1')}\n"
     ]
    },
    {
     "data": {
      "text/plain": [
       "equation(x' = x - k*x|tau + x|1 + x'|1) where (k = 2; tau = [1.    1.001 1.002 ... 1.998 1.999 2.   ])"
      ]
     },
     "execution_count": 93,
     "metadata": {},
     "output_type": "execute_result"
    }
   ],
   "source": [
    "oddesa.equation(\"x' = x - k*x|tau + x|1 + x'|1\", \n",
    "                k=2, tau = np.linspace(1,2,1001))\n"
   ]
  },
  {
   "cell_type": "code",
   "execution_count": 91,
   "id": "105754f1-3b80-40d0-921e-10fe18ae2b9d",
   "metadata": {
    "tags": []
   },
   "outputs": [
    {
     "name": "stdout",
     "output_type": "stream",
     "text": [
      "x - k * x|tau + x|1.5 + x''|tau\n",
      "x'\n",
      "{\"x'\": \"x - k * x|tau + x|1.5 + x''|tau\", 'x': \"x'\"}\n",
      "[\"x'\", 'x']\n",
      "{'1.5', 'tau'}\n",
      "{(\"x''\", 'tau'), ('x', 'tau'), ('x', '1.5')}\n"
     ]
    },
    {
     "data": {
      "text/plain": [
       "equation(x'' = x - k * x|tau + x|1.5 + x''|tau; x' = x') where (k = 2; tau = 1)"
      ]
     },
     "execution_count": 91,
     "metadata": {},
     "output_type": "execute_result"
    }
   ],
   "source": [
    "oddesa.equation(\"x'' = x - k * x|tau + x|1.5 + x''|tau\", \n",
    "                k=2, tau=1)"
   ]
  },
  {
   "cell_type": "code",
   "execution_count": 75,
   "id": "873a8a13-4f07-4f61-9d7c-e74f6dcc0649",
   "metadata": {},
   "outputs": [
    {
     "data": {
      "text/plain": [
       "''"
      ]
     },
     "execution_count": 75,
     "metadata": {},
     "output_type": "execute_result"
    }
   ],
   "source": [
    "oddesa.cpp_errors(\"int x˛ = 0; int main() {return 0;}\")"
   ]
  },
  {
   "cell_type": "code",
   "execution_count": 161,
   "id": "d6a88f27-641c-45a9-a802-a926fa8b4565",
   "metadata": {
    "tags": []
   },
   "outputs": [
    {
     "name": "stdout",
     "output_type": "stream",
     "text": [
      "\n",
      "        #include <iostream>\n",
      "        using namespace std;\n",
      "        int main() {\n",
      "            cout  \n",
      "                << \"sigma\" << \" = \" << 1 << \"; \"  \n",
      "                << \"rho\" << \" = \" << 28 << \"; \"  \n",
      "                << \"beta\" << \" = \" << 0.375 << \"; \" << endl;\n",
      "        }\n",
      "        \n",
      "sigma = 1; rho = 28; beta = 0.375; \n",
      "\n"
     ]
    }
   ],
   "source": [
    "lorenz_eq = oddesa.equation(\"\"\"\n",
    "    x'''' = sigma*(y - x''|1.02); \n",
    "    y' = rho*x - y'|1 - x*z;\n",
    "    z' = -beta*z + x*z;\n",
    "\"\"\", sigma=1, rho=28, beta=3/8)\n",
    "\n",
    "lorenz_eq.print_cpp_parameters()"
   ]
  },
  {
   "cell_type": "code",
   "execution_count": 138,
   "id": "76b7bf99-fe19-475c-aae5-18029390683e",
   "metadata": {
    "tags": []
   },
   "outputs": [
    {
     "data": {
      "text/plain": [
       "\"<class 'int'>\""
      ]
     },
     "execution_count": 138,
     "metadata": {},
     "output_type": "execute_result"
    }
   ],
   "source": [
    "f\"{type(2)}\""
   ]
  },
  {
   "cell_type": "code",
   "execution_count": null,
   "id": "2a30337e-3cd8-4d12-bf7f-852aa2325e43",
   "metadata": {},
   "outputs": [],
   "source": []
  }
 ],
 "metadata": {
  "kernelspec": {
   "display_name": "Python 3 (ipykernel)",
   "language": "python",
   "name": "python3"
  },
  "language_info": {
   "codemirror_mode": {
    "name": "ipython",
    "version": 3
   },
   "file_extension": ".py",
   "mimetype": "text/x-python",
   "name": "python",
   "nbconvert_exporter": "python",
   "pygments_lexer": "ipython3",
   "version": "3.11.7"
  }
 },
 "nbformat": 4,
 "nbformat_minor": 5
}
