{
 "cells": [
  {
   "cell_type": "code",
   "execution_count": 115,
   "id": "8c7340ec-124c-4a5d-ac1b-c50ed97285b3",
   "metadata": {
    "tags": []
   },
   "outputs": [
    {
     "name": "stdout",
     "output_type": "stream",
     "text": [
      "Looking in indexes: https://pypi.org/simple, https://pypi.ngc.nvidia.com\n",
      "Requirement already satisfied: regex in /opt/conda/lib/python3.11/site-packages (2024.11.6)\n",
      "Looking in indexes: https://pypi.org/simple, https://pypi.ngc.nvidia.com\n",
      "Collecting pybind11\n",
      "  Downloading pybind11-2.13.6-py3-none-any.whl.metadata (9.5 kB)\n",
      "Downloading pybind11-2.13.6-py3-none-any.whl (243 kB)\n",
      "\u001b[2K   \u001b[90m━━━━━━━━━━━━━━━━━━━━━━━━━━━━━━━━━━━━━━━━\u001b[0m \u001b[32m243.3/243.3 kB\u001b[0m \u001b[31m4.0 MB/s\u001b[0m eta \u001b[36m0:00:00\u001b[0m \u001b[36m0:00:01\u001b[0m\n",
      "\u001b[?25hInstalling collected packages: pybind11\n",
      "Successfully installed pybind11-2.13.6\n"
     ]
    }
   ],
   "source": [
    "!pip install regex\n",
    "!pip install pybind11"
   ]
  },
  {
   "cell_type": "code",
   "execution_count": 2,
   "id": "595340bb-e35c-4eb1-928c-86841427ee72",
   "metadata": {
    "tags": []
   },
   "outputs": [],
   "source": [
    "%load_ext autoreload\n",
    "%autoreload 2\n",
    "\n",
    "import oddesa\n",
    "import importlib\n",
    "import numpy as np"
   ]
  },
  {
   "cell_type": "code",
   "execution_count": 9,
   "id": "e89cb571-88c4-4d64-aee6-236b0bbba115",
   "metadata": {
    "tags": []
   },
   "outputs": [
    {
     "data": {
      "text/plain": [
       "equation(x' = x - k*x|tau + x|1 + x'|1) where (k = 2; tau = [1.    1.001 1.002 ... 1.998 1.999 2.   ])"
      ]
     },
     "execution_count": 9,
     "metadata": {},
     "output_type": "execute_result"
    }
   ],
   "source": [
    "oddesa.equation(\"x' = x - k*x|tau + x|1 + x'|1\", \n",
    "                k=2, tau = np.linspace(1,2,1001))\n"
   ]
  },
  {
   "cell_type": "code",
   "execution_count": 7,
   "id": "105754f1-3b80-40d0-921e-10fe18ae2b9d",
   "metadata": {
    "tags": []
   },
   "outputs": [
    {
     "data": {
      "text/plain": [
       "equation(x'' = x - k * x|tau + x|1.5 + x''|tau; x' = x') where (k = 2; tau = 1)"
      ]
     },
     "execution_count": 7,
     "metadata": {},
     "output_type": "execute_result"
    }
   ],
   "source": [
    "oddesa.equation(\"x'' = x - k * x|tau + x|1.5 + x''|tau\", \n",
    "                k=2, tau=1)"
   ]
  },
  {
   "cell_type": "code",
   "execution_count": 75,
   "id": "873a8a13-4f07-4f61-9d7c-e74f6dcc0649",
   "metadata": {},
   "outputs": [
    {
     "data": {
      "text/plain": [
       "''"
      ]
     },
     "execution_count": 75,
     "metadata": {},
     "output_type": "execute_result"
    }
   ],
   "source": [
    "oddesa.cpp_errors(\"int x˛ = 0; int main() {return 0;}\")"
   ]
  },
  {
   "cell_type": "code",
   "execution_count": 19,
   "id": "d6a88f27-641c-45a9-a802-a926fa8b4565",
   "metadata": {
    "tags": []
   },
   "outputs": [
    {
     "name": "stdout",
     "output_type": "stream",
     "text": [
      "\n",
      "            #include <pybind11/pybind11.h>\n",
      "            #include <pybind11/stl.h>\n",
      "            #include <pybind11/numpy.h>\n",
      "            #include \"equation.hpp\"\n",
      "            #include \"utils/cartesian_product.hpp\"\n",
      "            #include <vector>\n",
      "            #include <tuple>\n",
      "            namespace py = pybind11;\n",
      "\n",
      "            struct System : IVP<3, System> {\n",
      "                double sigma;\n",
      "                double rho;\n",
      "                double beta;\n",
      "            \n",
      "            \n",
      "                System(const tuple<double, double, double>& params) {\n",
      "                    tie(sigma, rho, beta) = params;\n",
      "\n",
      "                    lhs = [this](double t, const Vec<3>& XXX){\n",
      "                        const auto& [x, y, z] = XXX;\n",
      "                        return Vec<3>{\n",
      "                            sigma*(y - x),\n",
      "                            rho*x - x*z,\n",
      "                            -beta*z + x*z\n",
      "                        };\n",
      "                    };\n",
      "\n",
      "                    initial_condition = \n",
      "                        [this](double t){return Vec<3>{0.0, 0.1, 0.2};};\n",
      "\n",
      "                    integration_interval = make_pair(0, 10);\n",
      "                }\n",
      "                \n",
      "                tuple<Event<tuple<double, double, double, double>>> step_events = make_tuple(\n",
      "                    Event<tuple<double, double, double, double>> {\n",
      "                        .what_to_save = [this]() {\n",
      "                            const auto& [x, y, z] = X;\n",
      "                            return make_tuple(t, x, y, z);\n",
      "                        }\n",
      "                    }\n",
      "                );\n",
      "                \n",
      "            };\n",
      "            \n",
      "            auto solution_for_each(const vector<double>& sigma, const vector<double>& rho, const vector<double>& beta) {\n",
      "                auto parameter_combinations = cartesian_product(sigma, rho, beta);\n",
      "                \n",
      "                vector<decltype(make_tuple(parameter_combinations[0], System(parameter_combinations[0]).solution()))> result;\n",
      "                for (size_t i = 0; i < parameter_combinations.size(); i++) {\n",
      "                    auto& params = parameter_combinations[i];\n",
      "                    auto eq = System(params);\n",
      "                    result.push_back(make_tuple(params, eq.solution()));\n",
      "                }\n",
      "                return result;\n",
      "            }\n",
      "            \n",
      "            auto solution(double sigma, double rho, double beta) {\n",
      "                auto params = make_tuple(sigma, rho, beta);\n",
      "                auto eq = System(params);\n",
      "                return make_tuple(params, eq.solution());\n",
      "            }\n",
      "\n",
      "            // Binding code\n",
      "            PYBIND11_MODULE(solution, m) {\n",
      "                m.def(\"solution\", &solution, \n",
      "                    \"Calucate the solutions of the differential equaion.\"\n",
      "                    , py::arg(\"sigma\"), py::arg(\"rho\"), py::arg(\"beta\"));\n",
      "            }\n",
      "        \n",
      "/home/dbain/oddesa\n",
      "\n",
      "STDERR: <stdin>:2:22: fatal error: pybind11/pybind11‸h: No such file or directory\n",
      "compilation terminated.\n",
      "\n",
      "STDOUT: \n"
     ]
    }
   ],
   "source": [
    "lorenz_eq = oddesa.equation(\"\"\"\n",
    "    x' = sigma*(y - x); \n",
    "    y' = rho*x - x*z;\n",
    "    z' = -beta*z + x*z;\n",
    "\"\"\", interval=[0,10], ic=[0., 0.1, 0.2])\n",
    "\n",
    "lorenz_eq.compile()\n",
    "\n",
    "params, solution = lorenz_eq.solution(sigma=np.linspace(0, 1, 1000), rho=28., beta=3/8)\n",
    "t, x, y, z = solution[0]"
   ]
  },
  {
   "cell_type": "code",
   "execution_count": 11,
   "id": "7ff5e49f-c9cb-4fff-8068-c277eecf4624",
   "metadata": {
    "tags": []
   },
   "outputs": [],
   "source": [
    "params, solution = lorenz_eq.solution(1., 28., 3/8)\n",
    "t, x, y, z = solution[0]"
   ]
  },
  {
   "cell_type": "code",
   "execution_count": 14,
   "id": "13eaafbb-f694-4c88-923f-3bbef71addea",
   "metadata": {
    "tags": []
   },
   "outputs": [
    {
     "data": {
      "text/plain": [
       "list"
      ]
     },
     "execution_count": 14,
     "metadata": {},
     "output_type": "execute_result"
    }
   ],
   "source": [
    "type(t)"
   ]
  },
  {
   "cell_type": "code",
   "execution_count": 3,
   "id": "a56466be-d182-4bb0-b803-ba2469301e8e",
   "metadata": {
    "tags": []
   },
   "outputs": [
    {
     "ename": "NameError",
     "evalue": "name 't' is not defined",
     "output_type": "error",
     "traceback": [
      "\u001b[0;31m---------------------------------------------------------------------------\u001b[0m",
      "\u001b[0;31mNameError\u001b[0m                                 Traceback (most recent call last)",
      "Cell \u001b[0;32mIn[3], line 3\u001b[0m\n\u001b[1;32m      1\u001b[0m \u001b[38;5;28;01mimport\u001b[39;00m \u001b[38;5;21;01mmatplotlib\u001b[39;00m\u001b[38;5;21;01m.\u001b[39;00m\u001b[38;5;21;01mpyplot\u001b[39;00m \u001b[38;5;28;01mas\u001b[39;00m \u001b[38;5;21;01mplt\u001b[39;00m\n\u001b[0;32m----> 3\u001b[0m plt\u001b[38;5;241m.\u001b[39mplot(\u001b[43mt\u001b[49m, x)\n\u001b[1;32m      4\u001b[0m plt\u001b[38;5;241m.\u001b[39mplot(t, y)\n\u001b[1;32m      5\u001b[0m plt\u001b[38;5;241m.\u001b[39mplot(t, z)\n",
      "\u001b[0;31mNameError\u001b[0m: name 't' is not defined"
     ]
    }
   ],
   "source": [
    "import matplotlib.pyplot as plt\n",
    "\n",
    "plt.plot(t, x)\n",
    "plt.plot(t, y)\n",
    "plt.plot(t, z)"
   ]
  },
  {
   "cell_type": "code",
   "execution_count": 11,
   "id": "cb09d14d-c87f-42b2-b3d9-4b7417096d84",
   "metadata": {
    "tags": []
   },
   "outputs": [
    {
     "data": {
      "text/plain": [
       "9204648218355122611"
      ]
     },
     "execution_count": 11,
     "metadata": {},
     "output_type": "execute_result"
    }
   ],
   "source": []
  },
  {
   "cell_type": "code",
   "execution_count": 6,
   "id": "76b7bf99-fe19-475c-aae5-18029390683e",
   "metadata": {
    "tags": []
   },
   "outputs": [
    {
     "name": "stdout",
     "output_type": "stream",
     "text": [
      "\n",
      "            #include <pybind11/pybind11.h>\n",
      "            #include <pybind11/stl.h>\n",
      "            #include <pybind11/numpy.h>\n",
      "            #include \"equation.hpp\"\n",
      "            #include \"utils/cartesian_product.hpp\"\n",
      "            #include <vector>\n",
      "            #include <tuple>\n",
      "            namespace py = pybind11;\n",
      "\n",
      "            struct System : IVP<2, System> {\n",
      "                double k;\n",
      "                        \n",
      "                System(const tuple<double>& params) {\n",
      "                    tie(k) = params;\n",
      "\n",
      "                    lhs = [this](double t, const Vec<2>& XXX){\n",
      "                        const auto& [x´, x] = XXX;\n",
      "                        return Vec<2>{\n",
      "                            - k * x,\n",
      "                            x´\n",
      "                        };\n",
      "                    };\n",
      "\n",
      "                    initial_condition = \n",
      "                        [this](double t){return Vec<2>{0.0, 0.1};};\n",
      "\n",
      "                    integration_interval = make_pair(0, 10);\n",
      "                }\n",
      "                \n",
      "                tuple<Event<tuple<double, double, double>>> step_events = make_tuple(\n",
      "                    Event<tuple<double, double, double>> {\n",
      "                        .what_to_save = [this]() {\n",
      "                            const auto& [x´, x] = X;\n",
      "                            return make_tuple(t, x´, x);\n",
      "                        }\n",
      "                    }\n",
      "                );\n",
      "                \n",
      "            };\n",
      "            \n",
      "            auto solution_for_each(const vector<double>& k) {\n",
      "                auto parameter_combinations = cartesian_product(k);\n",
      "                \n",
      "                vector<decltype(make_tuple(parameter_combinations[0], System(parameter_combinations[0]).solution()))> result;\n",
      "                for (size_t i = 0; i < parameter_combinations.size(); i++) {\n",
      "                    auto& params = parameter_combinations[i];\n",
      "                    auto eq = System(params);\n",
      "                    result.push_back(make_tuple(params, eq.solution()));\n",
      "                }\n",
      "                return result;\n",
      "            }\n",
      "            \n",
      "            auto solution(double k) {\n",
      "                auto params = make_tuple(k);\n",
      "                auto eq = System(params);\n",
      "                return make_tuple(params, eq.solution());\n",
      "            }\n",
      "\n",
      "            // Binding code\n",
      "            PYBIND11_MODULE(solution10e9843a_93b8_45ba_88ea_6c03f60533fd, m) {\n",
      "                m.def(\"solution\", &solution, \n",
      "                    \"Calucate the solutions of the differential equaion.\"\n",
      "                    , py::arg(\"k\"));\n",
      "            }\n",
      "        \n",
      "/home/dbain/oddesa\n",
      "\n",
      "STDERR: \n",
      "STDOUT: \n"
     ]
    }
   ],
   "source": [
    "harmonic_osc = oddesa.equation(\"\"\"\n",
    "    x'' = - k * x\n",
    "\"\"\", ic=[0., 0.1])\n",
    "\n",
    "harmonic_osc.compile()"
   ]
  },
  {
   "cell_type": "code",
   "execution_count": 8,
   "id": "c53eb546-7e33-4554-8afa-bb541789fbbd",
   "metadata": {
    "tags": []
   },
   "outputs": [
    {
     "data": {
      "text/plain": [
       "[<matplotlib.lines.Line2D at 0x7ff51d162410>]"
      ]
     },
     "execution_count": 8,
     "metadata": {},
     "output_type": "execute_result"
    },
    {
     "data": {
      "image/png": "[encoded data removed]",
      "text/plain": [
       "<Figure size 640x480 with 1 Axes>"
      ]
     },
     "metadata": {},
     "output_type": "display_data"
    }
   ],
   "source": [
    "params, solution = harmonic_osc.solution(k = 0.1)\n",
    "t, x_, x = solution[0]\n",
    "import matplotlib.pyplot as plt\n",
    "\n",
    "plt.plot(t, x)\n",
    "plt.plot(t, x_)"
   ]
  }
 ],
 "metadata": {
  "kernelspec": {
   "display_name": "Python 3 (ipykernel)",
   "language": "python",
   "name": "python3"
  },
  "language_info": {
   "codemirror_mode": {
    "name": "ipython",
    "version": 3
   },
   "file_extension": ".py",
   "mimetype": "text/x-python",
   "name": "python",
   "nbconvert_exporter": "python",
   "pygments_lexer": "ipython3",
   "version": "3.11.7"
  }
 },
 "nbformat": 4,
 "nbformat_minor": 5
}
