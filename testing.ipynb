{
 "cells": [
  {
   "cell_type": "code",
   "execution_count": null,
   "id": "8c7340ec-124c-4a5d-ac1b-c50ed97285b3",
   "metadata": {
    "tags": []
   },
   "outputs": [],
   "source": [
    "!pip install regex\n",
    "!pip install pybind11"
   ]
  },
  {
   "cell_type": "code",
   "execution_count": 40,
   "id": "595340bb-e35c-4eb1-928c-86841427ee72",
   "metadata": {
    "tags": []
   },
   "outputs": [
    {
     "name": "stdout",
     "output_type": "stream",
     "text": [
      "The autoreload extension is already loaded. To reload it, use:\n",
      "  %reload_ext autoreload\n"
     ]
    }
   ],
   "source": [
    "%load_ext autoreload\n",
    "%autoreload 2\n",
    "\n",
    "import oddesa\n",
    "import importlib\n",
    "import numpy as np\n",
    "import matplotlib.pyplot as plt"
   ]
  },
  {
   "cell_type": "code",
   "execution_count": null,
   "id": "e89cb571-88c4-4d64-aee6-236b0bbba115",
   "metadata": {
    "tags": []
   },
   "outputs": [],
   "source": [
    "oddesa.equation(\"x' = x - k*x|tau + x|1 + x'|1\", \n",
    "                k=2, tau = np.linspace(1,2,1001))\n"
   ]
  },
  {
   "cell_type": "code",
   "execution_count": null,
   "id": "105754f1-3b80-40d0-921e-10fe18ae2b9d",
   "metadata": {
    "tags": []
   },
   "outputs": [],
   "source": [
    "oddesa.equation(\"x'' = x - k * x|tau + x|1.5 + x''|tau\", \n",
    "                k=2, tau=1)"
   ]
  },
  {
   "cell_type": "code",
   "execution_count": null,
   "id": "873a8a13-4f07-4f61-9d7c-e74f6dcc0649",
   "metadata": {},
   "outputs": [],
   "source": [
    "oddesa.cpp_errors(\"int x˛ = 0; int main() {return 0;}\")"
   ]
  },
  {
   "cell_type": "code",
   "execution_count": null,
   "id": "d6a88f27-641c-45a9-a802-a926fa8b4565",
   "metadata": {
    "tags": []
   },
   "outputs": [],
   "source": [
    "lorenz_eq = oddesa.equation(\"\"\"\n",
    "    x' = sigma*(y - x); \n",
    "    y' = rho*x - y - x*z;\n",
    "    z' = -beta*z + x*y;\n",
    "\"\"\")"
   ]
  },
  {
   "cell_type": "code",
   "execution_count": null,
   "id": "9e7ac276-b359-4207-8b28-e23375c3c65a",
   "metadata": {
    "tags": []
   },
   "outputs": [],
   "source": [
    "params, solution = lorenz_eq.solution(\n",
    "    (0,1000),\n",
    "    sigma=10, rho=28., beta=8/3,\n",
    "    x = 0, y = 20, z = 30)\n",
    "\n",
    "t, x, y, z = solution[0]"
   ]
  },
  {
   "cell_type": "code",
   "execution_count": null,
   "id": "5f52c643-4872-4688-a923-ce55edda594b",
   "metadata": {
    "tags": []
   },
   "outputs": [],
   "source": [
    "fig, ax = plt.subplots(figsize=(8,8), dpi=300)\n",
    "\n",
    "ax.plot(x+y, z, c='k', lw=0.1)"
   ]
  },
  {
   "cell_type": "code",
   "execution_count": null,
   "id": "a56466be-d182-4bb0-b803-ba2469301e8e",
   "metadata": {
    "tags": []
   },
   "outputs": [],
   "source": [
    "plt.plot(t, x)\n",
    "plt.plot(t, y)\n",
    "plt.plot(t, z)"
   ]
  },
  {
   "cell_type": "code",
   "execution_count": null,
   "id": "cb2191c1-93b9-4465-81ad-74dcab0e9db4",
   "metadata": {
    "tags": []
   },
   "outputs": [],
   "source": [
    "plt.plot(x+y, z, c='k', lw=0.01)"
   ]
  },
  {
   "cell_type": "code",
   "execution_count": null,
   "id": "a1858402-5f9d-40de-b91f-7c6eac3a01c8",
   "metadata": {
    "tags": []
   },
   "outputs": [],
   "source": [
    "list(enumerate([\"a\",\"b\",\"c\"]))"
   ]
  },
  {
   "cell_type": "code",
   "execution_count": null,
   "id": "4cb5b5f8-5318-4d9f-817d-51fa8f46ff6e",
   "metadata": {
    "tags": []
   },
   "outputs": [],
   "source": [
    "\"asdfasdf \\n asdf\".split(\"\\n\")"
   ]
  },
  {
   "cell_type": "code",
   "execution_count": 67,
   "id": "76b7bf99-fe19-475c-aae5-18029390683e",
   "metadata": {
    "tags": []
   },
   "outputs": [
    {
     "name": "stdout",
     "output_type": "stream",
     "text": [
      "[event{'where': 'step', 'filter': None, 'save': \"t, x, x'\", 'change': None, 'action': None}]\n",
      "Compiler returned some errors.\n",
      "Code:\n",
      "1 \n",
      "2 #include <pybind11/pybind11.h>\n",
      "3 #include <pybind11/stl.h>\n",
      "4 #include <pybind11/numpy.h>\n",
      "5 #include \"equation.hpp\"\n",
      "6 #include \"vector_to_numpy.hpp\"\n",
      "7 #include \"utils/cartesian_product.hpp\"\n",
      "8 #include <vector>\n",
      "9 #include <tuple>\n",
      "10 namespace py = pybind11;\n",
      "11 \n",
      "12 struct System : IVP<2, System> {\n",
      "13     double k;\n",
      "14                 double x₀;\n",
      "15                 double x´₀;\n",
      "16 \n",
      "17     System(const tuple<double, double, double>& params) {\n",
      "18         tie(k, x₀, x´₀) = params;\n",
      "19 \n",
      "20         lhs = [this](double t, const Vec<2>& XXX){\n",
      "21             const auto& [x, x´] = XXX;\n",
      "22             return Vec<2>{\n",
      "23                 x´,\n",
      "24                             - k*k * x\n",
      "25             };\n",
      "26         };\n",
      "27 \n",
      "28         initial_condition = \n",
      "29             [this](double t){return Vec<2>{x₀, x´₀};};\n",
      "30 \n",
      "31     }\n",
      "32 \n",
      "33     tuple<Event<tuple<double, double, double>>> step_events = make_tuple(\n",
      "34         Event<tuple<double, double, double>> {\n",
      "35             .what_to_save = [this]() {\n",
      "36                 const auto& [x, x´] = X;\n",
      "37                 return make_tuple(t, x, x´);\n",
      "38             }\n",
      "39         }\n",
      "40     );\n",
      "41 \n",
      "42     // delays = { \n",
      "43     //    {  },\n",
      "44     // }\n",
      "45 \n",
      "46 };\n",
      "47 \n",
      "48 auto solution_for_each(const vector<double>& k, const vector<double>& x₀, const vector<double>& x´₀) {\n",
      "49     auto parameter_combinations = cartesian_product(k, x₀, x´₀);\n",
      "50 \n",
      "51     vector<decltype(make_tuple(parameter_combinations[0], System(parameter_combinations[0]).solution(0., 1.)))> result;\n",
      "52     for (size_t i = 0; i < parameter_combinations.size(); i++) {\n",
      "53         auto& params = parameter_combinations[i];\n",
      "54         auto eq = System(params);\n",
      "55         result.push_back(make_tuple(params, eq.solution(0, 1)));\n",
      "56     }\n",
      "57     return result;\n",
      "58 }\n",
      "59 \n",
      "60 auto solution(double initial_time, double final_time, double k, double x₀, double x´₀) {\n",
      "61     auto params = make_tuple(k, x₀, x´₀);\n",
      "62     auto eq = System(params);\n",
      "63     return convert_to_numpy(make_tuple(params, eq.solution(initial_time, final_time)));\n",
      "64 }\n",
      "65 \n",
      "66 // Binding code\n",
      "67 PYBIND11_MODULE(solution6cf0ffdc_9a55_4be7_bcc7_16804ee629fa, m) {\n",
      "68     m.def(\"solution\", &solution, \n",
      "69         \"Calucate the solutions of the differential equaion.\"\n",
      "70         , py::arg(\"initial_time\"), py::arg(\"final_time\"), py::arg(\"k\"), py::arg(\"x₀\"), py::arg(\"x´₀\"));\n",
      "71 }\n",
      "72 \n",
      "STDERR of compiler:\n",
      " In file included from oddesa/cpp/equation.hpp:8,\n",
      "                 from <stdin>:5:\n",
      "oddesa/cpp/equation.hpp: In constructor ‘Lorenz::Lorenz(const std::tuple<double, double, double>&)’:\n",
      "oddesa/cpp/equation.hpp:191:16: error: class template argument deduction failed:\n",
      "  191 |               })\n",
      "      |                ^\n",
      "oddesa/cpp/utils/macros.hpp:16:59: note: in definition of macro ‘NON_STATIC_AUTO_DECLARATION’\n",
      "   16 | #define NON_STATIC_AUTO_DECLARATION(name, value) decltype(value) name = value\n",
      "      |                                                           ^~~~~\n",
      "oddesa/cpp/equation.hpp:191:16: error: no matching function for call to ‘Event(const std::nullopt_t&, const std::nullopt_t&, const std::nullopt_t&, Lorenz::Lorenz(const std::tuple<double, double, double>&)::<lambda()>)’\n",
      "  191 |               })\n",
      "      |                ^\n",
      "oddesa/cpp/utils/macros.hpp:16:59: note: in definition of macro ‘NON_STATIC_AUTO_DECLARATION’\n",
      "   16 | #define NON_STATIC_AUTO_DECLARATION(name, value) decltype(value) name = value\n",
      "      |                                                           ^~~~~\n",
      "In file included from <stdin>:5:\n",
      "oddesa/cpp/equation.hpp:29:8: note: candidate: ‘template<long unsigned int n, class ReturnType> Event()-> Event<n, ReturnType>’\n",
      "   29 | struct Event {};\n",
      "      |        ^~~~~\n",
      "oddesa/cpp/equation.hpp:29:8: note:   template argument deduction/substitution failed:\n",
      "In file included from oddesa/cpp/equation.hpp:8,\n",
      "                 from <stdin>:5:\n",
      "oddesa/cpp/equation.hpp:191:16: note:   candidate expects 0 arguments, 4 provided\n",
      "  191 |               })\n",
      "      |                ^\n",
      "oddesa/cpp/utils/macros.hpp:16:59: note: in definition of macro ‘NON_STATIC_AUTO_DECLARATION’\n",
      "   16 | #define NON_STATIC_AUTO_DECLARATION(name, value) decltype(value) name = value\n",
      "      |                                                           ^~~~~\n",
      "In file included from <stdin>:5:\n",
      "oddesa/cpp/equation.hpp:29:8: note: candidate: ‘template<long unsigned int n, class ReturnType> Event(Event<n, ReturnType>)-> Event<n, ReturnType>’\n",
      "   29 | struct Event {};\n",
      "      |        ^~~~~\n",
      "oddesa/cpp/equation.hpp:29:8: note:   template argument deduction/substitution failed:\n",
      "In file included from oddesa/cpp/equation.hpp:8,\n",
      "                 from <stdin>:5:\n",
      "oddesa/cpp/equation.hpp:191:16: note:   ‘std::nullopt_t’ is not derived from ‘Event<n, ReturnType>’\n",
      "  191 |               })\n",
      "      |                ^\n",
      "oddesa/cpp/utils/macros.hpp:16:59: note: in definition of macro ‘NON_STATIC_AUTO_DECLARATION’\n",
      "   16 | #define NON_STATIC_AUTO_DECLARATION(name, value) decltype(value) name = value\n",
      "      |                                                           ^~~~~\n",
      "oddesa/cpp/equation.hpp:191:16: error: class template argument deduction failed:\n",
      "  191 |               })\n",
      "      |                ^\n",
      "oddesa/cpp/utils/macros.hpp:16:59: note: in definition of macro ‘NON_STATIC_AUTO_DECLARATION’\n",
      "   16 | #define NON_STATIC_AUTO_DECLARATION(name, value) decltype(value) name = value\n",
      "      |                                                           ^~~~~\n",
      "oddesa/cpp/equation.hpp:191:16: error: no matching function for call to ‘Event(const std::nullopt_t&, const std::nullopt_t&, const std::nullopt_t&, Lorenz::Lorenz(const std::tuple<double, double, double>&)::<lambda()>)’\n",
      "  191 |               })\n",
      "      |                ^\n",
      "oddesa/cpp/utils/macros.hpp:16:59: note: in definition of macro ‘NON_STATIC_AUTO_DECLARATION’\n",
      "   16 | #define NON_STATIC_AUTO_DECLARATION(name, value) decltype(value) name = value\n",
      "      |                                                           ^~~~~\n",
      "In file included from <stdin>:5:\n",
      "oddesa/cpp/equation.hpp:29:8: note: candidate: ‘template<long unsigned int n, class ReturnType> Event()-> Event<n, ReturnType>’\n",
      "   29 | struct Event {};\n",
      "      |        ^~~~~\n",
      "oddesa/cpp/equation.hpp:29:8: note:   template argument deduction/substitution failed:\n",
      "In file included from oddesa/cpp/equation.hpp:8,\n",
      "                 from <stdin>:5:\n",
      "oddesa/cpp/equation.hpp:191:16: note:   candidate expects 0 arguments, 4 provided\n",
      "  191 |               })\n",
      "      |                ^\n",
      "oddesa/cpp/utils/macros.hpp:16:59: note: in definition of macro ‘NON_STATIC_AUTO_DECLARATION’\n",
      "   16 | #define NON_STATIC_AUTO_DECLARATION(name, value) decltype(value) name = value\n",
      "      |                                                           ^~~~~\n",
      "In file included from <stdin>:5:\n",
      "oddesa/cpp/equation.hpp:29:8: note: candidate: ‘template<long unsigned int n, class ReturnType> Event(Event<n, ReturnType>)-> Event<n, ReturnType>’\n",
      "   29 | struct Event {};\n",
      "      |        ^~~~~\n",
      "oddesa/cpp/equation.hpp:29:8: note:   template argument deduction/substitution failed:\n",
      "In file included from oddesa/cpp/equation.hpp:8,\n",
      "                 from <stdin>:5:\n",
      "oddesa/cpp/equation.hpp:191:16: note:   ‘std::nullopt_t’ is not derived from ‘Event<n, ReturnType>’\n",
      "  191 |               })\n",
      "      |                ^\n",
      "oddesa/cpp/utils/macros.hpp:16:59: note: in definition of macro ‘NON_STATIC_AUTO_DECLARATION’\n",
      "   16 | #define NON_STATIC_AUTO_DECLARATION(name, value) decltype(value) name = value\n",
      "      |                                                           ^~~~~\n",
      "oddesa/cpp/equation.hpp:191:16: error: class template argument deduction failed:\n",
      "  191 |               })\n",
      "      |                ^\n",
      "oddesa/cpp/utils/macros.hpp:16:73: note: in definition of macro ‘NON_STATIC_AUTO_DECLARATION’\n",
      "   16 | #define NON_STATIC_AUTO_DECLARATION(name, value) decltype(value) name = value\n",
      "      |                                                                         ^~~~~\n",
      "oddesa/cpp/equation.hpp:191:16: error: no matching function for call to ‘Event(const std::nullopt_t&, const std::nullopt_t&, const std::nullopt_t&, Lorenz::Lorenz(const std::tuple<double, double, double>&)::<lambda()>)’\n",
      "  191 |               })\n",
      "      |                ^\n",
      "oddesa/cpp/utils/macros.hpp:16:73: note: in definition of macro ‘NON_STATIC_AUTO_DECLARATION’\n",
      "   16 | #define NON_STATIC_AUTO_DECLARATION(name, value) decltype(value) name = value\n",
      "      |                                                                         ^~~~~\n",
      "In file included from <stdin>:5:\n",
      "oddesa/cpp/equation.hpp:29:8: note: candidate: ‘template<long unsigned int n, class ReturnType> Event()-> Event<n, ReturnType>’\n",
      "   29 | struct Event {};\n",
      "      |        ^~~~~\n",
      "oddesa/cpp/equation.hpp:29:8: note:   template argument deduction/substitution failed:\n",
      "In file included from oddesa/cpp/equation.hpp:8,\n",
      "                 from <stdin>:5:\n",
      "oddesa/cpp/equation.hpp:191:16: note:   candidate expects 0 arguments, 4 provided\n",
      "  191 |               })\n",
      "      |                ^\n",
      "oddesa/cpp/utils/macros.hpp:16:73: note: in definition of macro ‘NON_STATIC_AUTO_DECLARATION’\n",
      "   16 | #define NON_STATIC_AUTO_DECLARATION(name, value) decltype(value) name = value\n",
      "      |                                                                         ^~~~~\n",
      "In file included from <stdin>:5:\n",
      "oddesa/cpp/equation.hpp:29:8: note: candidate: ‘template<long unsigned int n, class ReturnType> Event(Event<n, ReturnType>)-> Event<n, ReturnType>’\n",
      "   29 | struct Event {};\n",
      "      |        ^~~~~\n",
      "oddesa/cpp/equation.hpp:29:8: note:   template argument deduction/substitution failed:\n",
      "In file included from oddesa/cpp/equation.hpp:8,\n",
      "                 from <stdin>:5:\n",
      "oddesa/cpp/equation.hpp:191:16: note:   ‘std::nullopt_t’ is not derived from ‘Event<n, ReturnType>’\n",
      "  191 |               })\n",
      "      |                ^\n",
      "oddesa/cpp/utils/macros.hpp:16:73: note: in definition of macro ‘NON_STATIC_AUTO_DECLARATION’\n",
      "   16 | #define NON_STATIC_AUTO_DECLARATION(name, value) decltype(value) name = value\n",
      "      |                                                                         ^~~~~\n",
      "oddesa/cpp/equation.hpp:184:37: error: unused variable ‘step_events’ [-Werror=unused-variable]\n",
      "  184 |         NON_STATIC_AUTO_DECLARATION(step_events, make_tuple(\n",
      "      |                                     ^~~~~~~~~~~\n",
      "oddesa/cpp/utils/macros.hpp:16:66: note: in definition of macro ‘NON_STATIC_AUTO_DECLARATION’\n",
      "   16 | #define NON_STATIC_AUTO_DECLARATION(name, value) decltype(value) name = value\n",
      "      |                                                                  ^~~~\n",
      "<stdin>: At global scope:\n",
      "<stdin>:33:45: error: wrong number of template arguments (1, should be 2)\n",
      "In file included from <stdin>:5:\n",
      "oddesa/cpp/equation.hpp:29:8: note: provided for ‘template<long unsigned int n, class ReturnType> struct Event’\n",
      "   29 | struct Event {};\n",
      "      |        ^~~~~\n",
      "<stdin>:33:47: error: template argument 1 is invalid\n",
      "<stdin>:34:43: error: wrong number of template arguments (1, should be 2)\n",
      "In file included from <stdin>:5:\n",
      "oddesa/cpp/equation.hpp:29:8: note: provided for ‘template<long unsigned int n, class ReturnType> struct Event’\n",
      "   29 | struct Event {};\n",
      "      |        ^~~~~\n",
      "oddesa/cpp/equation.hpp: In instantiation of ‘auto IVP<n, Derived>::solution(double, double) [with long unsigned int n = 2; Derived = System]’:\n",
      "<stdin>:51:101:   required from here\n",
      "oddesa/cpp/equation.hpp:144:20: error: no matching function for call to ‘for_each(int&, IVP<2, System>::solution(double, double)::<lambda(auto:44&)>)’\n",
      "  144 |            for_each(step_events, [](auto& event){ event.save(); });\n",
      "      |            ~~~~~~~~^~~~~~~~~~~~~~~~~~~~~~~~~~~~~~~~~~~~~~~~~~~~~~~\n",
      "In file included from oddesa/cpp/equation.hpp:6,\n",
      "                 from <stdin>:5:\n",
      "oddesa/cpp/utils/tuple.hpp:20:6: note: candidate: ‘template<class Func, class ... Types> void for_each(std::tuple<_UTypes ...>&, Func&&)’\n",
      "   20 | void for_each(std::tuple<Types...>& tpl, Func&& func) {\n",
      "      |      ^~~~~~~~\n",
      "oddesa/cpp/utils/tuple.hpp:20:6: note:   template argument deduction/substitution failed:\n",
      "In file included from <stdin>:5:\n",
      "oddesa/cpp/equation.hpp:144:20: note:   mismatched types ‘std::tuple<_UTypes ...>’ and ‘int’\n",
      "  144 |            for_each(step_events, [](auto& event){ event.save(); });\n",
      "      |            ~~~~~~~~^~~~~~~~~~~~~~~~~~~~~~~~~~~~~~~~~~~~~~~~~~~~~~~\n",
      "In file included from /usr/include/c++/11/string:52,\n",
      "                 from /usr/include/c++/11/bits/locale_classes.h:40,\n",
      "                 from /usr/include/c++/11/bits/ios_base.h:41,\n",
      "                 from /usr/include/c++/11/ios:42,\n",
      "                 from /usr/include/c++/11/ostream:38,\n",
      "                 from /usr/include/c++/11/bits/unique_ptr.h:42,\n",
      "                 from /usr/include/c++/11/memory:76,\n",
      "                 from /opt/conda/lib/python3.11/site-packages/pybind11/include/pybind11/detail/common.h:318,\n",
      "                 from /opt/conda/lib/python3.11/site-packages/pybind11/include/pybind11/attr.h:13,\n",
      "                 from /opt/conda/lib/python3.11/site-packages/pybind11/include/pybind11/detail/class.h:12,\n",
      "                 from /opt/conda/lib/python3.11/site-packages/pybind11/include/pybind11/pybind11.h:12,\n",
      "                 from <stdin>:2:\n",
      "/usr/include/c++/11/bits/stl_algo.h:3814:5: note: candidate: ‘template<class _IIter, class _Funct> constexpr _Funct std::for_each(_IIter, _IIter, _Funct)’\n",
      " 3814 |     for_each(_InputIterator __first, _InputIterator __last, _Function __f)\n",
      "      |     ^~~~~~~~\n",
      "/usr/include/c++/11/bits/stl_algo.h:3814:5: note:   template argument deduction/substitution failed:\n",
      "In file included from <stdin>:5:\n",
      "oddesa/cpp/equation.hpp:144:20: note:   deduced conflicting types for parameter ‘_IIter’ (‘int’ and ‘IVP<2, System>::solution(double, double)::<lambda(auto:44&)>’)\n",
      "  144 |            for_each(step_events, [](auto& event){ event.save(); });\n",
      "      |            ~~~~~~~~^~~~~~~~~~~~~~~~~~~~~~~~~~~~~~~~~~~~~~~~~~~~~~~\n",
      "In file included from /usr/include/c++/11/algorithm:74,\n",
      "                 from /opt/conda/lib/python3.11/site-packages/pybind11/include/pybind11/typing.h:17,\n",
      "                 from /opt/conda/lib/python3.11/site-packages/pybind11/include/pybind11/pybind11.h:19,\n",
      "                 from <stdin>:2:\n",
      "/usr/include/c++/11/pstl/glue_algorithm_defs.h:42:1: note: candidate: ‘template<class _ExecutionPolicy, class _ForwardIterator, class _Function> __pstl::__internal::__enable_if_execution_policy<_ExecutionPolicy, void> std::for_each(_ExecutionPolicy&&, _ForwardIterator, _ForwardIterator, _Function)’\n",
      "   42 | for_each(_ExecutionPolicy&& __exec, _ForwardIterator __first, _ForwardIterator __last, _Function __f);\n",
      "      | ^~~~~~~~\n",
      "/usr/include/c++/11/pstl/glue_algorithm_defs.h:42:1: note:   template argument deduction/substitution failed:\n",
      "In file included from <stdin>:5:\n",
      "oddesa/cpp/equation.hpp:144:20: note:   candidate expects 4 arguments, 2 provided\n",
      "  144 |            for_each(step_events, [](auto& event){ event.save(); });\n",
      "      |            ~~~~~~~~^~~~~~~~~~~~~~~~~~~~~~~~~~~~~~~~~~~~~~~~~~~~~~~\n",
      "oddesa/cpp/equation.hpp:151:22: error: no matching function for call to ‘transform(int&, IVP<2, System>::solution(double, double)::<lambda(const auto:46&)>)’\n",
      "  151 |             transform(step_events,             [](const auto& event){ return event.container; }),\n",
      "      |             ~~~~~~~~~^~~~~~~~~~~~~~~~~~~~~~~~~~~~~~~~~~~~~~~~~~~~~~~~~~~~~~~~~~~~~~~~~~~~~~~~~~~\n",
      "In file included from oddesa/cpp/equation.hpp:6,\n",
      "                 from <stdin>:5:\n",
      "oddesa/cpp/utils/tuple.hpp:38:6: note: candidate: ‘template<class Func, class ... Types> auto transform(const std::tuple<_UTypes ...>&, Func&&)’\n",
      "   38 | auto transform(const std::tuple<Types...>& tpl, Func&& func) {\n",
      "      |      ^~~~~~~~~\n",
      "oddesa/cpp/utils/tuple.hpp:38:6: note:   template argument deduction/substitution failed:\n",
      "In file included from <stdin>:5:\n",
      "oddesa/cpp/equation.hpp:151:22: note:   mismatched types ‘const std::tuple<_UTypes ...>’ and ‘int’\n",
      "  151 |             transform(step_events,             [](const auto& event){ return event.container; }),\n",
      "      |             ~~~~~~~~~^~~~~~~~~~~~~~~~~~~~~~~~~~~~~~~~~~~~~~~~~~~~~~~~~~~~~~~~~~~~~~~~~~~~~~~~~~~\n",
      "In file included from /usr/include/c++/11/string:52,\n",
      "                 from /usr/include/c++/11/bits/locale_classes.h:40,\n",
      "                 from /usr/include/c++/11/bits/ios_base.h:41,\n",
      "                 from /usr/include/c++/11/ios:42,\n",
      "                 from /usr/include/c++/11/ostream:38,\n",
      "                 from /usr/include/c++/11/bits/unique_ptr.h:42,\n",
      "                 from /usr/include/c++/11/memory:76,\n",
      "                 from /opt/conda/lib/python3.11/site-packages/pybind11/include/pybind11/detail/common.h:318,\n",
      "                 from /opt/conda/lib/python3.11/site-packages/pybind11/include/pybind11/attr.h:13,\n",
      "                 from /opt/conda/lib/python3.11/site-packages/pybind11/include/pybind11/detail/class.h:12,\n",
      "                 from /opt/conda/lib/python3.11/site-packages/pybind11/include/pybind11/pybind11.h:12,\n",
      "                 from <stdin>:2:\n",
      "/usr/include/c++/11/bits/stl_algo.h:4285:5: note: candidate: ‘template<class _IIter, class _OIter, class _UnaryOperation> constexpr _OIter std::transform(_IIter, _IIter, _OIter, _UnaryOperation)’\n",
      " 4285 |     transform(_InputIterator __first, _InputIterator __last,\n",
      "      |     ^~~~~~~~~\n",
      "/usr/include/c++/11/bits/stl_algo.h:4285:5: note:   template argument deduction/substitution failed:\n",
      "In file included from <stdin>:5:\n",
      "oddesa/cpp/equation.hpp:151:22: note:   deduced conflicting types for parameter ‘_IIter’ (‘int’ and ‘IVP<2, System>::solution(double, double)::<lambda(const auto:46&)>’)\n",
      "  151 |             transform(step_events,             [](const auto& event){ return event.container; }),\n",
      "      |             ~~~~~~~~~^~~~~~~~~~~~~~~~~~~~~~~~~~~~~~~~~~~~~~~~~~~~~~~~~~~~~~~~~~~~~~~~~~~~~~~~~~~\n",
      "In file included from /usr/include/c++/11/string:52,\n",
      "                 from /usr/include/c++/11/bits/locale_classes.h:40,\n",
      "                 from /usr/include/c++/11/bits/ios_base.h:41,\n",
      "                 from /usr/include/c++/11/ios:42,\n",
      "                 from /usr/include/c++/11/ostream:38,\n",
      "                 from /usr/include/c++/11/bits/unique_ptr.h:42,\n",
      "                 from /usr/include/c++/11/memory:76,\n",
      "                 from /opt/conda/lib/python3.11/site-packages/pybind11/include/pybind11/detail/common.h:318,\n",
      "                 from /opt/conda/lib/python3.11/site-packages/pybind11/include/pybind11/attr.h:13,\n",
      "                 from /opt/conda/lib/python3.11/site-packages/pybind11/include/pybind11/detail/class.h:12,\n",
      "                 from /opt/conda/lib/python3.11/site-packages/pybind11/include/pybind11/pybind11.h:12,\n",
      "                 from <stdin>:2:\n",
      "/usr/include/c++/11/bits/stl_algo.h:4323:5: note: candidate: ‘template<class _IIter1, class _IIter2, class _OIter, class _BinaryOperation> constexpr _OIter std::transform(_IIter1, _IIter1, _IIter2, _OIter, _BinaryOperation)’\n",
      " 4323 |     transform(_InputIterator1 __first1, _InputIterator1 __last1,\n",
      "      |     ^~~~~~~~~\n",
      "/usr/include/c++/11/bits/stl_algo.h:4323:5: note:   template argument deduction/substitution failed:\n",
      "In file included from <stdin>:5:\n",
      "oddesa/cpp/equation.hpp:151:22: note:   deduced conflicting types for parameter ‘_IIter1’ (‘int’ and ‘IVP<2, System>::solution(double, double)::<lambda(const auto:46&)>’)\n",
      "  151 |             transform(step_events,             [](const auto& event){ return event.container; }),\n",
      "      |             ~~~~~~~~~^~~~~~~~~~~~~~~~~~~~~~~~~~~~~~~~~~~~~~~~~~~~~~~~~~~~~~~~~~~~~~~~~~~~~~~~~~~\n",
      "In file included from /usr/include/c++/11/algorithm:74,\n",
      "                 from /opt/conda/lib/python3.11/site-packages/pybind11/include/pybind11/typing.h:17,\n",
      "                 from /opt/conda/lib/python3.11/site-packages/pybind11/include/pybind11/pybind11.h:19,\n",
      "                 from <stdin>:2:\n",
      "/usr/include/c++/11/pstl/glue_algorithm_defs.h:156:1: note: candidate: ‘template<class _ExecutionPolicy, class _ForwardIterator1, class _ForwardIterator2, class _UnaryOperation> __pstl::__internal::__enable_if_execution_policy<_ExecutionPolicy, _ForwardIterator> std::transform(_ExecutionPolicy&&, _ForwardIterator1, _ForwardIterator1, _ForwardIterator2, _UnaryOperation)’\n",
      "  156 | transform(_ExecutionPolicy&& __exec, _ForwardIterator1 __first, _ForwardIterator1 __last, _ForwardIterator2 __result,\n",
      "      | ^~~~~~~~~\n",
      "/usr/include/c++/11/pstl/glue_algorithm_defs.h:156:1: note:   template argument deduction/substitution failed:\n",
      "In file included from <stdin>:5:\n",
      "oddesa/cpp/equation.hpp:151:22: note:   candidate expects 5 arguments, 2 provided\n",
      "  151 |             transform(step_events,             [](const auto& event){ return event.container; }),\n",
      "      |             ~~~~~~~~~^~~~~~~~~~~~~~~~~~~~~~~~~~~~~~~~~~~~~~~~~~~~~~~~~~~~~~~~~~~~~~~~~~~~~~~~~~~\n",
      "In file included from /usr/include/c++/11/algorithm:74,\n",
      "                 from /opt/conda/lib/python3.11/site-packages/pybind11/include/pybind11/typing.h:17,\n",
      "                 from /opt/conda/lib/python3.11/site-packages/pybind11/include/pybind11/pybind11.h:19,\n",
      "                 from <stdin>:2:\n",
      "/usr/include/c++/11/pstl/glue_algorithm_defs.h:162:1: note: candidate: ‘template<class _ExecutionPolicy, class _ForwardIterator1, class _ForwardIterator2, class _ForwardIterator, class _BinaryOperation> __pstl::__internal::__enable_if_execution_policy<_ExecutionPolicy, _ForwardIterator> std::transform(_ExecutionPolicy&&, _ForwardIterator1, _ForwardIterator1, _ForwardIterator2, _ForwardIterator, _BinaryOperation)’\n",
      "  162 | transform(_ExecutionPolicy&& __exec, _ForwardIterator1 __first1, _ForwardIterator1 __last1, _ForwardIterator2 __first2,\n",
      "      | ^~~~~~~~~\n",
      "/usr/include/c++/11/pstl/glue_algorithm_defs.h:162:1: note:   template argument deduction/substitution failed:\n",
      "In file included from <stdin>:5:\n",
      "oddesa/cpp/equation.hpp:151:22: note:   candidate expects 6 arguments, 2 provided\n",
      "  151 |             transform(step_events,             [](const auto& event){ return event.container; }),\n",
      "      |             ~~~~~~~~~^~~~~~~~~~~~~~~~~~~~~~~~~~~~~~~~~~~~~~~~~~~~~~~~~~~~~~~~~~~~~~~~~~~~~~~~~~~\n",
      "<stdin>: In function ‘auto solution_for_each(const std::vector<double>&, const std::vector<double>&, const std::vector<double>&)’:\n",
      "<stdin>:51:111: error: template argument 1 is invalid\n",
      "<stdin>:51:111: error: template argument 2 is invalid\n",
      "<stdin>:55:16: error: request for member ‘push_back’ in ‘result’, which is of non-class type ‘int’\n",
      "cc1plus: all warnings being treated as errors\n",
      "\n"
     ]
    },
    {
     "data": {
      "text/plain": [
       "equation{'equations': {'x': \"x'\", \"x'\": '- k*k * x'}, 'initial_conditions': {'x': 'x₀', \"x'\": \"x'₀\"}, 'variable_names': ['x', \"x'\"], 'parameter_names': ['k', 'x₀', 'x´₀'], 'delays': {}, 'delayed_variable_names': [], 'highest_derivatives': [\"x''\"], 'uuid': '6cf0ffdc_9a55_4be7_bcc7_16804ee629fa', 'events': [event{'where': 'step', 'filter': None, 'save': \"t, x, x'\", 'change': None, 'action': None}]}"
      ]
     },
     "execution_count": 67,
     "metadata": {},
     "output_type": "execute_result"
    }
   ],
   "source": [
    "harmonic_osc = oddesa.equation(\"\"\"\n",
    "    x'' = - k*k * x;\n",
    "\"\"\", at=\"all\", compile=True)\n",
    "\n",
    "harmonic_osc"
   ]
  },
  {
   "cell_type": "code",
   "execution_count": 63,
   "id": "c53eb546-7e33-4554-8afa-bb541789fbbd",
   "metadata": {
    "tags": []
   },
   "outputs": [
    {
     "data": {
      "text/plain": [
       "[<matplotlib.lines.Line2D at 0x7f76a9c95c10>]"
      ]
     },
     "execution_count": 63,
     "metadata": {},
     "output_type": "execute_result"
    },
    {
     "data": {
      "image/png": "[encoded data removed]",
      "text/plain": [
       "<Figure size 640x480 with 1 Axes>"
      ]
     },
     "metadata": {},
     "output_type": "display_data"
    }
   ],
   "source": [
    "# params, solution = harmonic_osc.solution(k = 0.1, ic=[1., 2], interval=[0, 1])\n",
    "params, solution = harmonic_osc.solution((0, 1), k = (2*np.pi), x = (1, 0))\n",
    "t, x, x_ = solution[0]\n",
    "import matplotlib.pyplot as plt\n",
    "\n",
    "plt.plot(t, x)\n",
    "# plt.plot(t, x_)"
   ]
  },
  {
   "cell_type": "code",
   "execution_count": null,
   "id": "fcae2544-8f57-4a03-b648-d7203c39bc01",
   "metadata": {},
   "outputs": [],
   "source": [
    "bouncing_eq = oddesa.equation(\n",
    "    \"\"\"\n",
    "        x'' = -1;\n",
    "    \"\"\", events = oddesa.event(\"x < 0\", change=\"x' = -k*x'\")\n",
    ")"
   ]
  }
 ],
 "metadata": {
  "kernelspec": {
   "display_name": "Python 3 (ipykernel)",
   "language": "python",
   "name": "python3"
  },
  "language_info": {
   "codemirror_mode": {
    "name": "ipython",
    "version": 3
   },
   "file_extension": ".py",
   "mimetype": "text/x-python",
   "name": "python",
   "nbconvert_exporter": "python",
   "pygments_lexer": "ipython3",
   "version": "3.11.7"
  }
 },
 "nbformat": 4,
 "nbformat_minor": 5
}
