{
 "cells": [
  {
   "cell_type": "code",
   "execution_count": null,
   "id": "ec57c2c0-b08e-4dea-88df-47e9da810d87",
   "metadata": {},
   "outputs": [],
   "source": [
    "import numpy as np\n",
    "import matplotlib.pyplot as plt\n",
    "import oddesa"
   ]
  },
  {
   "cell_type": "code",
   "execution_count": null,
   "id": "98913d49-d2c7-4747-b270-48204c42651b",
   "metadata": {},
   "outputs": [],
   "source": [
    "lin1 = oddesa.equation(\"x' = k * x\")\n",
    "params, solution = lin1.solution(t = [0, 1], x = 0, k = -1)\n",
    "t, x = solution[0]\n",
    "plt.plot(t, x)"
   ]
  },
  {
   "cell_type": "code",
   "execution_count": null,
   "id": "97604bb4-cecc-473d-9a8b-0e61b8101768",
   "metadata": {},
   "outputs": [],
   "source": [
    "lin2 = oddesa.equation(\"x'' = -k * x\")\n",
    "params, solution = lin2.solution([0, 1], ic=\"x = 1; x' = 0\", k = -1)\n",
    "t, x, dx = solution[0]\n",
    "plt.plot(t, x)"
   ]
  },
  {
   "cell_type": "code",
   "execution_count": null,
   "id": "f40649e1-2c25-4617-bf7a-b2a4b633765d",
   "metadata": {},
   "outputs": [],
   "source": [
    "lin3 = oddesa.equation(\"x'' = -k * x\", \n",
    "                       ic = \"x = cos(k*t); x' = -k*sin(k*t)\")\n",
    "params, solution = lin3.solution((0, 1), k = -1)\n",
    "t, x, dx = solution[0]\n",
    "plt.plot(t, x)"
   ]
  },
  {
   "cell_type": "code",
   "execution_count": null,
   "id": "393d2071-f798-4800-aa94-a4e4c9d36378",
   "metadata": {
    "tags": []
   },
   "outputs": [],
   "source": [
    "lin1 = oddesa.equation(\"x'' = -k * x\", \n",
    "                       at=np.linspace(-10,100,10000))\n",
    "params, solution = lin1.solution((0, 1), k = -1)\n",
    "t, x, dx = solution[0]"
   ]
  },
  {
   "cell_type": "code",
   "execution_count": null,
   "id": "194fdae0-58ff-4ec0-a831-b310089eed19",
   "metadata": {},
   "outputs": [],
   "source": [
    "lin1 = oddesa.equation(\"x'' = -k * x\", at=np.linspace(-10,100,10000))\n",
    "params, solution = lin1.solution((0, 1), k = -1)\n",
    "t, x, dx = solution[0]"
   ]
  }
 ],
 "metadata": {
  "kernelspec": {
   "display_name": "Python 3 (ipykernel)",
   "language": "python",
   "name": "python3"
  },
  "language_info": {
   "codemirror_mode": {
    "name": "ipython",
    "version": 3
   },
   "file_extension": ".py",
   "mimetype": "text/x-python",
   "name": "python",
   "nbconvert_exporter": "python",
   "pygments_lexer": "ipython3",
   "version": "3.11.7"
  }
 },
 "nbformat": 4,
 "nbformat_minor": 5
}
