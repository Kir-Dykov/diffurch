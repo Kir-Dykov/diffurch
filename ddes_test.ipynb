{
 "cells": [
  {
   "cell_type": "code",
   "execution_count": 1,
   "id": "0e218209-5a0a-4d4c-bbcd-46c7777208fb",
   "metadata": {
    "tags": []
   },
   "outputs": [],
   "source": [
    "import json\n",
    "import py.myutils as my\n",
    "import importlib\n",
    "importlib.reload(my)\n",
    "import json\n",
    "import os\n",
    "import numpy as np\n",
    "import matplotlib\n",
    "import matplotlib.pyplot as plt\n",
    "from matplotlib.patches import Patch, Rectangle\n",
    "from matplotlib.colors import ListedColormap\n",
    "import matplotlib.colors as colors\n",
    "import matplotlib.cm as cm\n",
    "import matplotlib.patheffects as path_effects\n",
    "from matplotlib.ticker import MaxNLocator\n",
    "from matplotlib import rc\n",
    "\n",
    "# plt.rcParams[\"font.family\"] = \"serif\"\n",
    "# plt.rcParams[\"mathtext.fontset\"] = \"dejavuserif\"\n",
    "\n",
    "rc('font', **{'family': 'serif', 'serif': ['Computer Modern']})\n",
    "rc('text', usetex=True)\n",
    "\n",
    "recalculate = recompile = True"
   ]
  },
  {
   "cell_type": "code",
   "execution_count": 18,
   "id": "3f0bbb70-15bf-4a40-920f-4e3832b9c617",
   "metadata": {
    "tags": []
   },
   "outputs": [
    {
     "name": "stdout",
     "output_type": "stream",
     "text": [
      "ERROR: compiler exited and returned 256\n"
     ]
    },
    {
     "name": "stderr",
     "output_type": "stream",
     "text": [
      "In file included from /usr/include/c++/11/bits/stl_uninitialized.h:64,\n",
      "                 from /usr/include/c++/11/vector:66,\n",
      "                 from cpp/ddes_test.cpp:1:\n",
      "/usr/include/c++/11/ext/alloc_traits.h: In instantiation of ‘struct __gnu_cxx::__alloc_traits<std::allocator<void>, void>’:\n",
      "/usr/include/c++/11/bits/stl_vector.h:87:21:   required from ‘struct std::_Vector_base<void, std::allocator<void> >’\n",
      "/usr/include/c++/11/array:111:56:   recursively required from ‘struct std::array<std::vector<void, std::allocator<void> >, 6>’\n",
      "/usr/include/c++/11/array:111:56:   required from ‘struct std::array<std::array<std::vector<void, std::allocator<void> >, 6>, 1>’\n",
      "cpp/discoque.hpp:21:59:   required from ‘class DiscoQue<1, 6, void>’\n",
      "cpp/ddes.hpp:90:36:   required from ‘void RelayDDE<n, delays_number, true_delays_number>::solution(std::array<double, delays_number>, std::vector<double>&, std::vector<std::array<double, delays_number> >&) [with int n = 2; int delays_number = 1; int true_delays_number = 0]’\n",
      "cpp/ddes_test.cpp:62:17:   required from here\n",
      "/usr/include/c++/11/ext/alloc_traits.h:62:53: error: forming reference to void\n",
      "   62 |     typedef value_type&                             reference;\n",
      "      |                                                     ^~~~~~~~~\n",
      "compilation terminated due to -Wfatal-errors.\n"
     ]
    }
   ],
   "source": [
    "params = dict(\n",
    " b = -0.02,\n",
    " c = 1, d = 1, v = -0.1, tau = 1,\n",
    "    h=0.01, T = 50000\n",
    ")\n",
    "\n",
    "script = \"ddes_test\"\n",
    "prefix = script\n",
    "params_str = json.dumps(params)\n",
    "#\n",
    "filename = prefix + \" \" + params_str\n",
    "filename = filename[:min(len(filename), 200)]\n",
    "\n",
    "filename_bin = f\"output_bin/{filename}.bin\"\n",
    "#\n",
    "if recalculate or not os.path.isfile(filename_bin):\n",
    "    my.run_cpp(script, params=params_str, recompile=recompile)\n",
    "\n"
   ]
  },
  {
   "cell_type": "code",
   "execution_count": null,
   "id": "90fc21a6-de2d-4599-a7e7-2ef295e149f2",
   "metadata": {},
   "outputs": [],
   "source": []
  }
 ],
 "metadata": {
  "kernelspec": {
   "display_name": "Python 3 (ipykernel)",
   "language": "python",
   "name": "python3"
  },
  "language_info": {
   "codemirror_mode": {
    "name": "ipython",
    "version": 3
   },
   "file_extension": ".py",
   "mimetype": "text/x-python",
   "name": "python",
   "nbconvert_exporter": "python",
   "pygments_lexer": "ipython3",
   "version": "3.11.7"
  }
 },
 "nbformat": 4,
 "nbformat_minor": 5
}
