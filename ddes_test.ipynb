{
 "cells": [
  {
   "cell_type": "code",
   "execution_count": 2,
   "id": "0e218209-5a0a-4d4c-bbcd-46c7777208fb",
   "metadata": {
    "tags": []
   },
   "outputs": [],
   "source": [
    "import json\n",
    "import py.myutils as my\n",
    "import importlib\n",
    "importlib.reload(my)\n",
    "import json\n",
    "import os\n",
    "import numpy as np\n",
    "import matplotlib\n",
    "import matplotlib.pyplot as plt\n",
    "from matplotlib.patches import Patch, Rectangle\n",
    "from matplotlib.colors import ListedColormap\n",
    "import matplotlib.colors as colors\n",
    "import matplotlib.cm as cm\n",
    "import matplotlib.patheffects as path_effects\n",
    "from matplotlib.ticker import MaxNLocator\n",
    "from matplotlib import rc\n",
    "\n",
    "# plt.rcParams[\"font.family\"] = \"serif\"\n",
    "# plt.rcParams[\"mathtext.fontset\"] = \"dejavuserif\"\n",
    "\n",
    "rc('font', **{'family': 'serif', 'serif': ['Computer Modern']})\n",
    "rc('text', usetex=True)\n",
    "\n",
    "recalculate = recompile = True"
   ]
  },
  {
   "cell_type": "code",
   "execution_count": 42,
   "id": "3f0bbb70-15bf-4a40-920f-4e3832b9c617",
   "metadata": {
    "tags": []
   },
   "outputs": [
    {
     "name": "stdout",
     "output_type": "stream",
     "text": [
      "~~~ cpp/ddes_test.cpp is executed ~~~\n",
      "~~~  parameters: {\"b\": -0.02, \"c\": 1, \"d\": 1, \"v\": -0.1, \"tau\": 1, \"h\": 0.01, \"T\": 50000} ~~~\n",
      "[12, 16]\n"
     ]
    }
   ],
   "source": [
    "params = dict(\n",
    " b = -0.02,\n",
    " c = 1, d = 1, v = -0.1, tau = 1,\n",
    "    h=0.01, T = 50000\n",
    ")\n",
    "\n",
    "script = \"ddes_test\"\n",
    "prefix = script\n",
    "params_str = json.dumps(params)\n",
    "#\n",
    "filename = prefix + \" \" + params_str\n",
    "filename = filename[:min(len(filename), 200)]\n",
    "\n",
    "filename_bin = f\"output_bin/{filename}.bin\"\n",
    "#\n",
    "if recalculate or not os.path.isfile(filename_bin):\n",
    "    my.run_cpp(script, params=params_str, recompile=recompile)\n",
    "\n"
   ]
  },
  {
   "cell_type": "code",
   "execution_count": null,
   "id": "90fc21a6-de2d-4599-a7e7-2ef295e149f2",
   "metadata": {},
   "outputs": [],
   "source": []
  }
 ],
 "metadata": {
  "kernelspec": {
   "display_name": "Python 3 (ipykernel)",
   "language": "python",
   "name": "python3"
  },
  "language_info": {
   "codemirror_mode": {
    "name": "ipython",
    "version": 3
   },
   "file_extension": ".py",
   "mimetype": "text/x-python",
   "name": "python",
   "nbconvert_exporter": "python",
   "pygments_lexer": "ipython3",
   "version": "3.11.7"
  }
 },
 "nbformat": 4,
 "nbformat_minor": 5
}
